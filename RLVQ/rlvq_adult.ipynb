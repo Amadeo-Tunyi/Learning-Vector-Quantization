{
 "cells": [
  {
   "cell_type": "code",
   "execution_count": 1,
   "metadata": {},
   "outputs": [],
   "source": [
    "from rlvq import RLVQ\n",
    "import pandas as pd\n",
    "import numpy as np"
   ]
  },
  {
   "cell_type": "code",
   "execution_count": 2,
   "metadata": {},
   "outputs": [],
   "source": [
    "a_d = pd.read_csv('new_adult.csv', index_col = [0])\n",
    "income = a_d['income']\n",
    "inc = pd.DataFrame(np.array(income), columns= ['labels'])\n",
    "a_d.drop('income', axis= 1, inplace = True)"
   ]
  },
  {
   "cell_type": "code",
   "execution_count": 3,
   "metadata": {},
   "outputs": [],
   "source": [
    "from sklearn.model_selection import train_test_split\n",
    "\n",
    "# Split dataset into training set and test set\n",
    "x_train, x_val, y_train, y_val = train_test_split(np.array(a_d)[:6000], np.array(inc)[:6000], test_size=0.3, random_state=42)"
   ]
  },
  {
   "cell_type": "code",
   "execution_count": 4,
   "metadata": {},
   "outputs": [
    {
     "ename": "AttributeError",
     "evalue": "'RLVQ' object has no attribute 'cat_full'",
     "output_type": "error",
     "traceback": [
      "\u001b[1;31m---------------------------------------------------------------------------\u001b[0m",
      "\u001b[1;31mAttributeError\u001b[0m                            Traceback (most recent call last)",
      "\u001b[1;32mc:\\Users\\amade\\Documents\\GitHub\\Learning-Vector-Quantization\\RLVQ\\rlvq_adult.ipynb Cell 4\u001b[0m line \u001b[0;36m<cell line: 2>\u001b[1;34m()\u001b[0m\n\u001b[0;32m      <a href='vscode-notebook-cell:/c%3A/Users/amade/Documents/GitHub/Learning-Vector-Quantization/RLVQ/rlvq_adult.ipynb#W3sZmlsZQ%3D%3D?line=0'>1</a>\u001b[0m model \u001b[39m=\u001b[39m RLVQ(\u001b[39m2\u001b[39m)\n\u001b[1;32m----> <a href='vscode-notebook-cell:/c%3A/Users/amade/Documents/GitHub/Learning-Vector-Quantization/RLVQ/rlvq_adult.ipynb#W3sZmlsZQ%3D%3D?line=1'>2</a>\u001b[0m model\u001b[39m.\u001b[39;49mfit(x_train, y_train)\n",
      "File \u001b[1;32mc:\\Users\\amade\\Documents\\GitHub\\Learning-Vector-Quantization\\RLVQ\\rlvq.py:165\u001b[0m, in \u001b[0;36mRLVQ.fit\u001b[1;34m(self, data, labels, eps_zero, alpha_zero, max_iter, decay_scheme)\u001b[0m\n\u001b[0;32m    163\u001b[0m \u001b[39mdef\u001b[39;00m \u001b[39mfit\u001b[39m(\u001b[39mself\u001b[39m, data, labels,eps_zero \u001b[39m=\u001b[39m \u001b[39m0.1\u001b[39m, alpha_zero \u001b[39m=\u001b[39m \u001b[39m0.1\u001b[39m, max_iter \u001b[39m=\u001b[39m \u001b[39m100\u001b[39m, decay_scheme \u001b[39m=\u001b[39m \u001b[39mTrue\u001b[39;00m):\n\u001b[0;32m    164\u001b[0m     \u001b[39mimport\u001b[39;00m \u001b[39mmath\u001b[39;00m\n\u001b[1;32m--> 165\u001b[0m     \u001b[39mself\u001b[39m\u001b[39m.\u001b[39mprotolabels, \u001b[39mself\u001b[39m\u001b[39m.\u001b[39mprototypes \u001b[39m=\u001b[39m \u001b[39mself\u001b[39;49m\u001b[39m.\u001b[39;49minitialization(data, labels)\n\u001b[0;32m    166\u001b[0m     \u001b[39mself\u001b[39m\u001b[39m.\u001b[39mweight \u001b[39m=\u001b[39m \u001b[39mself\u001b[39m\u001b[39m.\u001b[39mweights(data)\n\u001b[0;32m    167\u001b[0m     \u001b[39miter\u001b[39m \u001b[39m=\u001b[39m \u001b[39m0\u001b[39m\n",
      "File \u001b[1;32mc:\\Users\\amade\\Documents\\GitHub\\Learning-Vector-Quantization\\RLVQ\\rlvq.py:48\u001b[0m, in \u001b[0;36mRLVQ.initialization\u001b[1;34m(self, train_data, train_labels)\u001b[0m\n\u001b[0;32m     46\u001b[0m class_data \u001b[39m=\u001b[39m train_data[index]\n\u001b[0;32m     47\u001b[0m mu \u001b[39m=\u001b[39m np\u001b[39m.\u001b[39mmean(class_data, axis \u001b[39m=\u001b[39m \u001b[39m0\u001b[39m)\n\u001b[1;32m---> 48\u001b[0m \u001b[39mif\u001b[39;00m \u001b[39mself\u001b[39;49m\u001b[39m.\u001b[39;49mcat_full \u001b[39m==\u001b[39m \u001b[39mTrue\u001b[39;00m:\n\u001b[0;32m     49\u001b[0m     mu \u001b[39m=\u001b[39m mu\u001b[39m#.astype(int)\u001b[39;00m\n\u001b[0;32m     50\u001b[0m     distances \u001b[39m=\u001b[39m [\u001b[39mself\u001b[39m\u001b[39m.\u001b[39mindicator_dist(mu, c) \u001b[39mfor\u001b[39;00m c \u001b[39min\u001b[39;00m class_data]\n",
      "\u001b[1;31mAttributeError\u001b[0m: 'RLVQ' object has no attribute 'cat_full'"
     ]
    }
   ],
   "source": [
    "model = RLVQ(2)\n",
    "model.fit(x_train, y_train)"
   ]
  }
 ],
 "metadata": {
  "kernelspec": {
   "display_name": "Python 3",
   "language": "python",
   "name": "python3"
  },
  "language_info": {
   "codemirror_mode": {
    "name": "ipython",
    "version": 3
   },
   "file_extension": ".py",
   "mimetype": "text/x-python",
   "name": "python",
   "nbconvert_exporter": "python",
   "pygments_lexer": "ipython3",
   "version": "3.10.11"
  },
  "orig_nbformat": 4
 },
 "nbformat": 4,
 "nbformat_minor": 2
}
