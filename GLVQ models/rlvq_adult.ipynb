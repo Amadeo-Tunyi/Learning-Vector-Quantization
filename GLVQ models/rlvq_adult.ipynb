{
 "cells": [
  {
   "cell_type": "code",
   "execution_count": 1,
   "metadata": {},
   "outputs": [],
   "source": [
    "from rlvq import RLVQ\n",
    "import pandas as pd\n",
    "import numpy as np"
   ]
  },
  {
   "cell_type": "code",
   "execution_count": 2,
   "metadata": {},
   "outputs": [],
   "source": [
    "a_d = pd.read_csv('new_adult.csv', index_col = [0])\n",
    "income = a_d['income']\n",
    "inc = pd.DataFrame(np.array(income), columns= ['labels'])\n",
    "a_d.drop('income', axis= 1, inplace = True)"
   ]
  },
  {
   "cell_type": "code",
   "execution_count": 3,
   "metadata": {},
   "outputs": [],
   "source": [
    "from sklearn.model_selection import train_test_split\n",
    "\n",
    "# Split dataset into training set and test set\n",
    "x_train, x_val, y_train, y_val = train_test_split(np.array(a_d)[:6000], np.array(inc)[:6000], test_size=0.3, random_state=42)"
   ]
  },
  {
   "cell_type": "code",
   "execution_count": 4,
   "metadata": {},
   "outputs": [
    {
     "data": {
      "text/plain": [
       "(array([[ 1.70484248e+00,  7.83989998e-01,  9.11938089e-01,\n",
       "          5.94656017e+00,  8.94304606e-01,  4.97380964e-01,\n",
       "          7.31398096e-01,  1.75812048e-02,  9.25244811e-01,\n",
       "          1.53185284e-02,  1.11571772e-01, -5.21351119e-02,\n",
       "          3.02907489e-02,  2.70591206e-02,  1.63359441e-01,\n",
       "          2.51382393e-03,  7.76776866e-01],\n",
       "        [ 1.79913788e+00,  1.08527138e+00,  7.71283752e-01,\n",
       "          7.06205850e+00,  9.22608203e-01,  4.77011209e-01,\n",
       "          7.67793935e-01, -7.98882718e-04,  7.18689585e-01,\n",
       "          1.60031286e-11,  2.25733828e-01,  5.55765876e-02,\n",
       "         -4.22476304e-04,  3.50940626e-02,  1.61951455e-01,\n",
       "         -5.54535481e-03,  8.08922314e-01],\n",
       "        [ 2.95933960e+00,  2.25317662e+00,  1.28437814e+00,\n",
       "          7.02842807e+00, -4.31357566e-01, -2.37056995e-01,\n",
       "          1.58357261e+00,  1.00000000e+00,  3.94370958e-01,\n",
       "          0.00000000e+00,  1.04731949e-01,  5.00897093e-01,\n",
       "         -6.96999172e-03, -2.22646872e-02, -7.38090310e-02,\n",
       "         -1.97748840e-04,  1.10324146e+00],\n",
       "        [ 2.09301618e+01,  1.72094923e+01,  1.35838573e+01,\n",
       "          9.98269293e+01, -3.21439083e+01, -1.31852723e+01,\n",
       "          7.30504433e+00,  5.44933431e+00,  7.19261892e+00,\n",
       "          0.00000000e+00, -6.19261892e+00,  0.00000000e+00,\n",
       "         -7.01852523e-02,  9.40705853e-02, -1.02273801e+01,\n",
       "          0.00000000e+00,  1.12034947e+01]]),\n",
       " array([0, 0, 1, 1]),\n",
       " array([0.00000000e+000, 0.00000000e+000, 0.00000000e+000, 0.00000000e+000,\n",
       "        1.48219694e-323, 1.48219694e-323, 9.88131292e-324, 1.00000000e+000,\n",
       "        2.96439388e-323, 7.88123891e-030, 3.45845952e-323, 3.95252517e-323,\n",
       "        1.75941405e-130, 5.18643868e-097, 2.47032823e-323, 3.13859414e-042,\n",
       "        2.47032823e-323]))"
      ]
     },
     "execution_count": 4,
     "metadata": {},
     "output_type": "execute_result"
    }
   ],
   "source": [
    "model = RLVQ(2)\n",
    "model.fit(x_train, y_train)"
   ]
  },
  {
   "cell_type": "code",
   "execution_count": 5,
   "metadata": {},
   "outputs": [
    {
     "data": {
      "text/plain": [
       "77.94444444444444"
      ]
     },
     "execution_count": 5,
     "metadata": {},
     "output_type": "execute_result"
    }
   ],
   "source": [
    "model.evaluate(x_val, y_val)"
   ]
  },
  {
   "cell_type": "code",
   "execution_count": 7,
   "metadata": {},
   "outputs": [
    {
     "data": {
      "text/plain": [
       "75.1111111111111"
      ]
     },
     "execution_count": 7,
     "metadata": {},
     "output_type": "execute_result"
    }
   ],
   "source": [
    "#try for random initialization\n",
    "trained_model = RLVQ(num_prototypes_per_class=1, initialization_type='random')\n",
    "prototypes,proto_labels,_ = trained_model.fit(x_train, y_train)\n",
    "trained_model.evaluate(x_val, y_val)"
   ]
  }
 ],
 "metadata": {
  "kernelspec": {
   "display_name": "Python 3",
   "language": "python",
   "name": "python3"
  },
  "language_info": {
   "codemirror_mode": {
    "name": "ipython",
    "version": 3
   },
   "file_extension": ".py",
   "mimetype": "text/x-python",
   "name": "python",
   "nbconvert_exporter": "python",
   "pygments_lexer": "ipython3",
   "version": "3.10.11"
  },
  "orig_nbformat": 4
 },
 "nbformat": 4,
 "nbformat_minor": 2
}
