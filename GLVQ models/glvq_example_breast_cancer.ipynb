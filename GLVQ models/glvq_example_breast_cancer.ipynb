{
 "cells": [
  {
   "cell_type": "code",
   "execution_count": 1,
   "metadata": {},
   "outputs": [],
   "source": [
    "from lvq_models import GLVQ, GRLVQ\n",
    "import pandas as pd\n",
    "import numpy as np"
   ]
  },
  {
   "cell_type": "code",
   "execution_count": 2,
   "metadata": {},
   "outputs": [],
   "source": [
    "b_c_data = pd.read_csv('data.csv')\n",
    "b_c_data.columns\n",
    "b_c_data.drop(['id', 'Unnamed: 32'], axis = 1, inplace= True)\n",
    "label = b_c_data['diagnosis'].replace({'M': 0, 'B': 1})\n",
    "train_data = b_c_data.drop(['diagnosis'], axis = 1)"
   ]
  },
  {
   "cell_type": "code",
   "execution_count": 3,
   "metadata": {},
   "outputs": [],
   "source": [
    "#scale data between 0 and 1\n",
    "from sklearn.preprocessing import MinMaxScaler\n",
    "scale = MinMaxScaler()\n",
    "X = scale.fit_transform(train_data)\n",
    "norm_t_data = pd.DataFrame(X, columns = train_data.columns, index = train_data.index)"
   ]
  },
  {
   "cell_type": "code",
   "execution_count": 4,
   "metadata": {},
   "outputs": [],
   "source": [
    "from sklearn.model_selection import train_test_split\n",
    "\n",
    "# Split dataset into training set and test set\n",
    "x_train, x_val, y_train, y_val = train_test_split(np.array(norm_t_data), np.array(label), test_size=0.3, random_state=42)"
   ]
  },
  {
   "cell_type": "code",
   "execution_count": 5,
   "metadata": {},
   "outputs": [],
   "source": [
    "trained_model = GRLVQ(num_prototypes_per_class=3, initialization_type='random', prototype_update_learning_rate = 0.01)"
   ]
  },
  {
   "cell_type": "code",
   "execution_count": 6,
   "metadata": {},
   "outputs": [
    {
     "ename": "TypeError",
     "evalue": "only size-1 arrays can be converted to Python scalars",
     "output_type": "error",
     "traceback": [
      "\u001b[1;31m---------------------------------------------------------------------------\u001b[0m",
      "\u001b[1;31mTypeError\u001b[0m                                 Traceback (most recent call last)",
      "\u001b[1;32mc:\\Users\\amade\\Documents\\GitHub\\Learning-Vector-Quantization\\GLVQ models\\glvq_example_breast_cancer.ipynb Cell 6\u001b[0m line \u001b[0;36m<cell line: 1>\u001b[1;34m()\u001b[0m\n\u001b[1;32m----> <a href='vscode-notebook-cell:/c%3A/Users/amade/Documents/GitHub/Learning-Vector-Quantization/GLVQ%20models/glvq_example_breast_cancer.ipynb#X11sZmlsZQ%3D%3D?line=0'>1</a>\u001b[0m prototypes,proto_labels \u001b[39m=\u001b[39m trained_model\u001b[39m.\u001b[39;49mfit(x_train, y_train, decay_scheme\u001b[39m=\u001b[39;49m \u001b[39mFalse\u001b[39;49;00m)\n",
      "File \u001b[1;32mc:\\Users\\amade\\Documents\\GitHub\\Learning-Vector-Quantization\\GLVQ models\\lvq_models.py:479\u001b[0m, in \u001b[0;36mGRLVQ.fit\u001b[1;34m(self, data, labels, Epochs, decay_scheme, plot_loss)\u001b[0m\n\u001b[0;32m    477\u001b[0m     loss\u001b[39m.\u001b[39mappend(err)\n\u001b[0;32m    478\u001b[0m \u001b[39melse\u001b[39;00m:\n\u001b[1;32m--> 479\u001b[0m     \u001b[39mself\u001b[39m\u001b[39m.\u001b[39mprototypes, \u001b[39mself\u001b[39m\u001b[39m.\u001b[39mweight \u001b[39m=\u001b[39m \u001b[39mself\u001b[39;49m\u001b[39m.\u001b[39;49mupdate(data,\u001b[39mself\u001b[39;49m\u001b[39m.\u001b[39;49mweight, \u001b[39mself\u001b[39;49m\u001b[39m.\u001b[39;49mproto_labels, \u001b[39mself\u001b[39;49m\u001b[39m.\u001b[39;49mprototypes ,\u001b[39mself\u001b[39;49m\u001b[39m.\u001b[39;49malpha_zero, \u001b[39mself\u001b[39;49m\u001b[39m.\u001b[39;49meps_zero,labels)\n\u001b[0;32m    480\u001b[0m     err \u001b[39m=\u001b[39m \u001b[39mself\u001b[39m\u001b[39m.\u001b[39mcost( data,\u001b[39mself\u001b[39m\u001b[39m.\u001b[39mprototypes, \u001b[39mself\u001b[39m\u001b[39m.\u001b[39mweight, labels, \u001b[39mself\u001b[39m\u001b[39m.\u001b[39mproto_labels)\n\u001b[0;32m    482\u001b[0m     loss\u001b[39m.\u001b[39mappend(err)\n",
      "File \u001b[1;32mc:\\Users\\amade\\Documents\\GitHub\\Learning-Vector-Quantization\\GLVQ models\\lvq_models.py:428\u001b[0m, in \u001b[0;36mGRLVQ.update\u001b[1;34m(self, data, weight, proto_labels, prototypes, alpha, eps, labels)\u001b[0m\n\u001b[0;32m    426\u001b[0m prototypes[index_a] \u001b[39m+\u001b[39m\u001b[39m=\u001b[39m alpha\u001b[39m*\u001b[39m(f\u001b[39m*\u001b[39m(\u001b[39m1\u001b[39m\u001b[39m-\u001b[39mf))\u001b[39m*\u001b[39m(np\u001b[39m.\u001b[39mdivide(d_b, (d_a \u001b[39m+\u001b[39m d_b)\u001b[39m*\u001b[39m\u001b[39m*\u001b[39m\u001b[39m2\u001b[39m))\u001b[39m*\u001b[39m(xi \u001b[39m-\u001b[39m prototypes[index_a])\n\u001b[0;32m    427\u001b[0m prototypes[index_b] \u001b[39m-\u001b[39m\u001b[39m=\u001b[39m alpha\u001b[39m*\u001b[39m(f\u001b[39m*\u001b[39m(\u001b[39m1\u001b[39m\u001b[39m-\u001b[39mf))\u001b[39m*\u001b[39m(np\u001b[39m.\u001b[39mdivide(d_a, (d_a \u001b[39m+\u001b[39m d_b)\u001b[39m*\u001b[39m\u001b[39m*\u001b[39m\u001b[39m2\u001b[39m))\u001b[39m*\u001b[39m(xi \u001b[39m-\u001b[39m prototypes[index_b])\n\u001b[1;32m--> 428\u001b[0m weight  \u001b[39m-\u001b[39m\u001b[39m=\u001b[39m eps\u001b[39m*\u001b[39m\u001b[39mself\u001b[39;49m\u001b[39m.\u001b[39;49msigmoid_prime((np\u001b[39m.\u001b[39;49mdivide(d_b, (d_a \u001b[39m+\u001b[39;49m d_b)\u001b[39m*\u001b[39;49m\u001b[39m*\u001b[39;49m\u001b[39m2\u001b[39;49m))\u001b[39m*\u001b[39;49m(xi \u001b[39m-\u001b[39;49m prototypes[index_a])\u001b[39m*\u001b[39;49m\u001b[39m*\u001b[39;49m\u001b[39m2\u001b[39;49m \u001b[39m-\u001b[39;49m (np\u001b[39m.\u001b[39;49mdivide(d_a, (d_a \u001b[39m+\u001b[39;49m d_b)\u001b[39m*\u001b[39;49m\u001b[39m*\u001b[39;49m\u001b[39m2\u001b[39;49m))\u001b[39m*\u001b[39;49m(xi \u001b[39m-\u001b[39;49m prototypes[index_b])\u001b[39m*\u001b[39;49m\u001b[39m*\u001b[39;49m\u001b[39m2\u001b[39;49m)\n\u001b[0;32m    429\u001b[0m weight \u001b[39m=\u001b[39m weight\u001b[39m.\u001b[39mclip(\u001b[39mmin\u001b[39m \u001b[39m=\u001b[39m \u001b[39m0\u001b[39m)\n\u001b[0;32m    430\u001b[0m weight \u001b[39m=\u001b[39m weight\u001b[39m/\u001b[39mweight\u001b[39m.\u001b[39msum()         \n",
      "File \u001b[1;32mc:\\Users\\amade\\Documents\\GitHub\\Learning-Vector-Quantization\\GLVQ models\\lvq_models.py:395\u001b[0m, in \u001b[0;36mGRLVQ.sigmoid_prime\u001b[1;34m(self, x)\u001b[0m\n\u001b[0;32m    394\u001b[0m \u001b[39mdef\u001b[39;00m \u001b[39msigmoid_prime\u001b[39m(\u001b[39mself\u001b[39m, x):\n\u001b[1;32m--> 395\u001b[0m     \u001b[39mreturn\u001b[39;00m \u001b[39mself\u001b[39;49m\u001b[39m.\u001b[39;49msigmoid(x)\u001b[39m*\u001b[39m(\u001b[39m1\u001b[39m \u001b[39m-\u001b[39m \u001b[39mself\u001b[39m\u001b[39m.\u001b[39msigmoid(x))\n",
      "File \u001b[1;32mc:\\Users\\amade\\Documents\\GitHub\\Learning-Vector-Quantization\\GLVQ models\\lvq_models.py:388\u001b[0m, in \u001b[0;36mGRLVQ.sigmoid\u001b[1;34m(self, x)\u001b[0m\n\u001b[0;32m    386\u001b[0m \u001b[39mdef\u001b[39;00m \u001b[39msigmoid\u001b[39m(\u001b[39mself\u001b[39m, x):\n\u001b[0;32m    387\u001b[0m     \u001b[39mimport\u001b[39;00m \u001b[39mmath\u001b[39;00m\n\u001b[1;32m--> 388\u001b[0m     denominator \u001b[39m=\u001b[39m \u001b[39m1\u001b[39m \u001b[39m+\u001b[39m math\u001b[39m.\u001b[39;49mexp(\u001b[39m-\u001b[39;49mx)\n\u001b[0;32m    389\u001b[0m     \u001b[39mreturn\u001b[39;00m \u001b[39m1\u001b[39m\u001b[39m/\u001b[39mdenominator\n",
      "\u001b[1;31mTypeError\u001b[0m: only size-1 arrays can be converted to Python scalars"
     ]
    }
   ],
   "source": [
    "prototypes,proto_labels = trained_model.fit(x_train, y_train, decay_scheme= False)"
   ]
  },
  {
   "cell_type": "code",
   "execution_count": null,
   "metadata": {},
   "outputs": [
    {
     "data": {
      "text/plain": [
       "76.60818713450293"
      ]
     },
     "execution_count": 7,
     "metadata": {},
     "output_type": "execute_result"
    }
   ],
   "source": [
    "#evaluatte on test set\n",
    "trained_model.evaluate(x_val, y_val)"
   ]
  },
  {
   "cell_type": "code",
   "execution_count": null,
   "metadata": {},
   "outputs": [
    {
     "data": {
      "text/plain": [
       "array([1, 0, 0, 1, 1, 0, 0, 0, 0, 1, 1, 0, 1, 0, 1, 0, 1, 1, 0, 0, 1, 1,\n",
       "       0, 1, 1, 1, 1, 1, 1, 0, 1, 0, 0, 1, 0, 1, 0, 0, 0, 0, 0, 0, 1, 1,\n",
       "       1, 1, 0, 1, 1, 1, 0, 0, 0, 1, 1, 1, 1, 0, 0, 0, 1, 0, 0, 1, 1, 1,\n",
       "       0, 0, 1, 1, 0, 0, 1, 0, 0, 1, 1, 0, 0, 1, 0, 0, 0, 0, 0, 0, 0, 0,\n",
       "       1, 1, 1, 0, 0, 1, 0, 0, 0, 0, 0, 0, 0, 0, 0, 0, 1, 1, 1, 0, 0, 1,\n",
       "       0, 1, 0, 0, 1, 0, 0, 1, 0, 0, 0, 0, 1, 0, 0, 0, 0, 1, 1, 0, 0, 0,\n",
       "       1, 1, 1, 0, 0, 1, 0, 0, 1, 0, 0, 0, 0, 1, 0, 0, 0, 0, 0, 0, 0, 1,\n",
       "       1, 0, 0, 0, 1, 0, 0, 1, 0, 1, 0, 1, 1, 0, 1, 0, 1])"
      ]
     },
     "execution_count": 8,
     "metadata": {},
     "output_type": "execute_result"
    }
   ],
   "source": [
    "#use command predict_all for arrays of points\n",
    "trained_model.predict_all(x_val)"
   ]
  },
  {
   "cell_type": "code",
   "execution_count": null,
   "metadata": {},
   "outputs": [],
   "source": []
  }
 ],
 "metadata": {
  "kernelspec": {
   "display_name": "Python 3",
   "language": "python",
   "name": "python3"
  },
  "language_info": {
   "codemirror_mode": {
    "name": "ipython",
    "version": 3
   },
   "file_extension": ".py",
   "mimetype": "text/x-python",
   "name": "python",
   "nbconvert_exporter": "python",
   "pygments_lexer": "ipython3",
   "version": "3.10.11"
  },
  "orig_nbformat": 4
 },
 "nbformat": 4,
 "nbformat_minor": 2
}
