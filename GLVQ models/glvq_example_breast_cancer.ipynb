{
 "cells": [
  {
   "cell_type": "code",
   "execution_count": 1,
   "metadata": {},
   "outputs": [],
   "source": [
    "from lvq_models import GLVQ, GRLVQ\n",
    "import pandas as pd\n",
    "import numpy as np"
   ]
  },
  {
   "cell_type": "code",
   "execution_count": 2,
   "metadata": {},
   "outputs": [],
   "source": [
    "b_c_data = pd.read_csv('data.csv')\n",
    "b_c_data.columns\n",
    "b_c_data.drop(['id', 'Unnamed: 32'], axis = 1, inplace= True)\n",
    "label = b_c_data['diagnosis'].replace({'M': 0, 'B': 1})\n",
    "train_data = b_c_data.drop(['diagnosis'], axis = 1)"
   ]
  },
  {
   "cell_type": "code",
   "execution_count": 3,
   "metadata": {},
   "outputs": [],
   "source": [
    "#scale data between 0 and 1\n",
    "from sklearn.preprocessing import MinMaxScaler\n",
    "scale = MinMaxScaler()\n",
    "X = scale.fit_transform(train_data)\n",
    "norm_t_data = pd.DataFrame(X, columns = train_data.columns, index = train_data.index)"
   ]
  },
  {
   "cell_type": "code",
   "execution_count": 4,
   "metadata": {},
   "outputs": [],
   "source": [
    "from sklearn.model_selection import train_test_split\n",
    "\n",
    "# Split dataset into training set and test set\n",
    "x_train, x_val, y_train, y_val = train_test_split(np.array(norm_t_data), np.array(label), test_size=0.3, random_state=42)"
   ]
  },
  {
   "cell_type": "code",
   "execution_count": 5,
   "metadata": {},
   "outputs": [],
   "source": [
    "trained_model = GLVQ(num_prototypes_per_class=1, initialization_type='mean', learning_rate = 0.01)"
   ]
  },
  {
   "cell_type": "code",
   "execution_count": 6,
   "metadata": {},
   "outputs": [
    {
     "name": "stdout",
     "output_type": "stream",
     "text": [
      "Epoch: 0.......... Loss: 0.3853555555602351\n",
      "Epoch: 1.......... Loss: 0.4116962027766438\n",
      "Epoch: 2.......... Loss: 0.436678987456678\n",
      "Epoch: 3.......... Loss: 0.45533623004804996\n",
      "Epoch: 4.......... Loss: 0.46773812122291636\n",
      "Epoch: 5.......... Loss: 0.4757524408066081\n",
      "Epoch: 6.......... Loss: 0.4810350498622424\n",
      "Epoch: 7.......... Loss: 0.4846473836812863\n",
      "Epoch: 8.......... Loss: 0.4872144931630852\n",
      "Epoch: 9.......... Loss: 0.4891037706204243\n",
      "Epoch: 10.......... Loss: 0.490537027489632\n",
      "Epoch: 11.......... Loss: 0.4916528878692361\n",
      "Epoch: 12.......... Loss: 0.4925410362928972\n",
      "Epoch: 13.......... Loss: 0.4932613912112835\n",
      "Epoch: 14.......... Loss: 0.4938551686754524\n",
      "Epoch: 15.......... Loss: 0.4943514739313811\n",
      "Epoch: 16.......... Loss: 0.49477135054614213\n",
      "Epoch: 17.......... Loss: 0.49513033904326575\n",
      "Epoch: 18.......... Loss: 0.4954401361672941\n",
      "Epoch: 19.......... Loss: 0.4957096968602287\n",
      "Epoch: 20.......... Loss: 0.49594598240268534\n",
      "Epoch: 21.......... Loss: 0.4961544787903311\n",
      "Epoch: 22.......... Loss: 0.49633956276262875\n",
      "Epoch: 23.......... Loss: 0.4965047648246165\n",
      "Epoch: 24.......... Loss: 0.49665296133584086\n",
      "Epoch: 25.......... Loss: 0.49678651690719966\n",
      "Epoch: 26.......... Loss: 0.49690739142125656\n",
      "Epoch: 27.......... Loss: 0.497017221486017\n",
      "Epoch: 28.......... Loss: 0.49711738315131804\n",
      "Epoch: 29.......... Loss: 0.49720904071317235\n",
      "Epoch: 30.......... Loss: 0.49729318506367187\n",
      "Epoch: 31.......... Loss: 0.497370664096815\n",
      "Epoch: 32.......... Loss: 0.4974422070154461\n",
      "Epoch: 33.......... Loss: 0.49750844391122984\n",
      "Epoch: 34.......... Loss: 0.4975699216486513\n",
      "Epoch: 35.......... Loss: 0.4976271168355582\n",
      "Epoch: 36.......... Loss: 0.49768044647966886\n",
      "Epoch: 37.......... Loss: 0.4977302767941763\n",
      "Epoch: 38.......... Loss: 0.49777693051313404\n",
      "Epoch: 39.......... Loss: 0.4978206929996299\n",
      "Epoch: 40.......... Loss: 0.4978618173703503\n",
      "Epoch: 41.......... Loss: 0.49790052881435265\n",
      "Epoch: 42.......... Loss: 0.49793702824832986\n",
      "Epoch: 43.......... Loss: 0.497971495422865\n",
      "Epoch: 44.......... Loss: 0.4980040915723269\n",
      "Epoch: 45.......... Loss: 0.49803496168375466\n",
      "Epoch: 46.......... Loss: 0.4980642364463201\n",
      "Epoch: 47.......... Loss: 0.4980920339319319\n",
      "Epoch: 48.......... Loss: 0.4981184610486867\n",
      "Epoch: 49.......... Loss: 0.4981436148017081\n",
      "Epoch: 50.......... Loss: 0.49816758339009604\n",
      "Epoch: 51.......... Loss: 0.4981904471639628\n",
      "Epoch: 52.......... Loss: 0.49821227946164665\n",
      "Epoch: 53.......... Loss: 0.4982331473439926\n",
      "Epoch: 54.......... Loss: 0.4982531122399567\n",
      "Epoch: 55.......... Loss: 0.49827223051559316\n",
      "Epoch: 56.......... Loss: 0.4982905539766716\n",
      "Epoch: 57.......... Loss: 0.4983081303136476\n",
      "Epoch: 58.......... Loss: 0.49832500349643927\n",
      "Epoch: 59.......... Loss: 0.4983412141253935\n",
      "Epoch: 60.......... Loss: 0.49835679974392605\n",
      "Epoch: 61.......... Loss: 0.4983717951175544\n",
      "Epoch: 62.......... Loss: 0.49838623248340286\n",
      "Epoch: 63.......... Loss: 0.49840014177370356\n",
      "Epoch: 64.......... Loss: 0.4984135508163568\n",
      "Epoch: 65.......... Loss: 0.49842648551520796\n",
      "Epoch: 66.......... Loss: 0.49843897001236104\n",
      "Epoch: 67.......... Loss: 0.4984510268345497\n",
      "Epoch: 68.......... Loss: 0.49846267702533986\n",
      "Epoch: 69.......... Loss: 0.498473940264713\n",
      "Epoch: 70.......... Loss: 0.4984848349773943\n",
      "Epoch: 71.......... Loss: 0.4984953784311276\n",
      "Epoch: 72.......... Loss: 0.4985055868259503\n",
      "Epoch: 73.......... Loss: 0.4985154753754065\n",
      "Epoch: 74.......... Loss: 0.49852505838052225\n",
      "Epoch: 75.......... Loss: 0.4985343492972752\n",
      "Epoch: 76.......... Loss: 0.49854336079820977\n",
      "Epoch: 77.......... Loss: 0.49855210482877266\n",
      "Epoch: 78.......... Loss: 0.49856059265888647\n",
      "Epoch: 79.......... Loss: 0.4985688349302154\n",
      "Epoch: 80.......... Loss: 0.49857684169953803\n",
      "Epoch: 81.......... Loss: 0.4985846224785858\n",
      "Epoch: 82.......... Loss: 0.4985921862706828\n",
      "Epoch: 83.......... Loss: 0.49859954160447356\n",
      "Epoch: 84.......... Loss: 0.4986066965650073\n",
      "Epoch: 85.......... Loss: 0.4986136588224133\n",
      "Epoch: 86.......... Loss: 0.4986204356583819\n",
      "Epoch: 87.......... Loss: 0.49862703399064173\n",
      "Epoch: 88.......... Loss: 0.498633460395609\n",
      "Epoch: 89.......... Loss: 0.49863972112936283\n",
      "Epoch: 90.......... Loss: 0.4986458221470903\n",
      "Epoch: 91.......... Loss: 0.498651769121128\n",
      "Epoch: 92.......... Loss: 0.49865756745771844\n",
      "Epoch: 93.......... Loss: 0.4986632223125822\n",
      "Epoch: 94.......... Loss: 0.49866873860540767\n",
      "Epoch: 95.......... Loss: 0.4986741210333408\n",
      "Epoch: 96.......... Loss: 0.49867937408355484\n",
      "Epoch: 97.......... Loss: 0.4986845020449748\n",
      "Epoch: 98.......... Loss: 0.49868950901921866\n",
      "Epoch: 99.......... Loss: 0.4986943989308188\n"
     ]
    }
   ],
   "source": [
    "prototypes,proto_labels = trained_model.fit(x_train, y_train, decay_scheme= True)"
   ]
  },
  {
   "cell_type": "code",
   "execution_count": 7,
   "metadata": {},
   "outputs": [
    {
     "data": {
      "text/plain": [
       "array([[0.24320694, 0.27448438, 0.23619043, 0.14133659, 0.35709519,\n",
       "        0.18059118, 0.1190205 , 0.13877658, 0.33649931, 0.27263992,\n",
       "        0.07354267, 0.1826352 , 0.06757801, 0.03724471, 0.18524535,\n",
       "        0.14095211, 0.06399024, 0.18238903, 0.17362814, 0.08849555,\n",
       "        0.20328466, 0.3075581 , 0.18994722, 0.10638047, 0.35479072,\n",
       "        0.14913476, 0.13668036, 0.25767555, 0.22059645, 0.16577254],\n",
       "       [0.24835962, 0.2748376 , 0.24068744, 0.13806812, 0.35689349,\n",
       "        0.18674071, 0.10893592, 0.12775292, 0.3384812 , 0.27134739,\n",
       "        0.06190818, 0.18450393, 0.05909901, 0.02700066, 0.18558703,\n",
       "        0.14516009, 0.066824  , 0.18989708, 0.17284266, 0.09580076,\n",
       "        0.19682772, 0.30297844, 0.18551741, 0.09370386, 0.35250956,\n",
       "        0.15039802, 0.13280621, 0.2570204 , 0.21863603, 0.16112779]])"
      ]
     },
     "execution_count": 7,
     "metadata": {},
     "output_type": "execute_result"
    }
   ],
   "source": [
    "prototypes"
   ]
  },
  {
   "cell_type": "code",
   "execution_count": 8,
   "metadata": {},
   "outputs": [
    {
     "data": {
      "text/plain": [
       "77.19298245614034"
      ]
     },
     "execution_count": 8,
     "metadata": {},
     "output_type": "execute_result"
    }
   ],
   "source": [
    "#evaluatte on test set\n",
    "trained_model.evaluate(x_val, y_val)"
   ]
  },
  {
   "cell_type": "code",
   "execution_count": 12,
   "metadata": {},
   "outputs": [
    {
     "data": {
      "text/plain": [
       "array([0, 0, 0, 1, 1, 0, 0, 0, 0, 1, 0, 0, 1, 0, 1, 0, 1, 1, 1, 0, 0, 0,\n",
       "       0, 1, 1, 0, 1, 1, 1, 0, 1, 1, 0, 0, 1, 0, 0, 1, 0, 0, 1, 0, 1, 1,\n",
       "       0, 0, 1, 1, 0, 1, 0, 0, 0, 1, 1, 0, 1, 0, 0, 1, 1, 0, 0, 0, 1, 0,\n",
       "       0, 0, 1, 0, 0, 0, 1, 0, 1, 0, 1, 0, 1, 0, 0, 1, 0, 0, 0, 0, 0, 0,\n",
       "       1, 0, 1, 0, 0, 1, 1, 1, 0, 0, 1, 0, 0, 1, 0, 0, 0, 0, 1, 0, 0, 0,\n",
       "       0, 1, 0, 0, 0, 0, 1, 0, 1, 0, 1, 1, 1, 0, 0, 0, 0, 1, 1, 0, 0, 0,\n",
       "       0, 1, 0, 0, 0, 0, 0, 0, 1, 0, 1, 1, 0, 1, 0, 0, 0, 1, 0, 1, 1, 0,\n",
       "       1, 0, 0, 1, 0, 1, 1, 1, 1, 1, 0, 1, 1, 0, 1, 0, 0])"
      ]
     },
     "execution_count": 12,
     "metadata": {},
     "output_type": "execute_result"
    }
   ],
   "source": [
    "#use command predict_all for arrays of points\n",
    "trained_model.predict_all(x_val)"
   ]
  },
  {
   "cell_type": "code",
   "execution_count": 10,
   "metadata": {},
   "outputs": [
    {
     "data": {
      "text/plain": [
       "0"
      ]
     },
     "execution_count": 10,
     "metadata": {},
     "output_type": "execute_result"
    }
   ],
   "source": [
    "trained_model.predict(norm_t_data.iloc[0])"
   ]
  },
  {
   "cell_type": "code",
   "execution_count": null,
   "metadata": {},
   "outputs": [],
   "source": []
  }
 ],
 "metadata": {
  "kernelspec": {
   "display_name": "Python 3",
   "language": "python",
   "name": "python3"
  },
  "language_info": {
   "codemirror_mode": {
    "name": "ipython",
    "version": 3
   },
   "file_extension": ".py",
   "mimetype": "text/x-python",
   "name": "python",
   "nbconvert_exporter": "python",
   "pygments_lexer": "ipython3",
   "version": "3.10.11"
  },
  "orig_nbformat": 4
 },
 "nbformat": 4,
 "nbformat_minor": 2
}
