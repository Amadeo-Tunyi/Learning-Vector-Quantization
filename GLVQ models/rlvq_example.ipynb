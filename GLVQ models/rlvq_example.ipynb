{
 "cells": [
  {
   "cell_type": "code",
   "execution_count": 1,
   "metadata": {},
   "outputs": [],
   "source": [
    "import numpy as np"
   ]
  },
  {
   "cell_type": "code",
   "execution_count": 2,
   "metadata": {},
   "outputs": [],
   "source": [
    "from sklearn import datasets\n",
    "E, F = datasets.load_iris(return_X_y= True)"
   ]
  },
  {
   "cell_type": "code",
   "execution_count": 3,
   "metadata": {},
   "outputs": [],
   "source": [
    "from sklearn.preprocessing import MinMaxScaler\n",
    "Scale = MinMaxScaler()\n",
    "Scaled = Scale.fit_transform(E)\n"
   ]
  },
  {
   "cell_type": "code",
   "execution_count": 4,
   "metadata": {},
   "outputs": [],
   "source": [
    "split = (0.8,0.2)\n",
    "seed = 45\n",
    "\n",
    "\n",
    "rng = np.random.default_rng(seed)\n",
    "\n",
    "cuts = (np.array(split) * len(E)).astype(int)\n",
    "i_train, i_val = np.split(rng.permutation(len(E)), cuts[:-1])\n",
    "\n",
    "x_train, y_train = Scaled[i_train], F[i_train]\n",
    "x_val, y_val = Scaled[i_val], F[i_val]"
   ]
  },
  {
   "cell_type": "code",
   "execution_count": 5,
   "metadata": {},
   "outputs": [],
   "source": [
    "from rlvq import RLVQ"
   ]
  },
  {
   "cell_type": "code",
   "execution_count": 6,
   "metadata": {},
   "outputs": [],
   "source": [
    "trained_model = RLVQ(num_prototypes_per_class=1, initialization_type='random')"
   ]
  },
  {
   "cell_type": "code",
   "execution_count": 7,
   "metadata": {},
   "outputs": [
    {
     "data": {
      "text/plain": [
       "(array([[0.20508397, 0.61558256, 0.07659336, 0.05774307],\n",
       "        [0.47086238, 0.33575743, 0.53882247, 0.48809098],\n",
       "        [0.66546834, 0.43593781, 0.79237642, 0.82147855]]),\n",
       " array([0, 1, 2]),\n",
       " array([1.59125697e-05, 7.40925441e-05, 5.91282204e-01, 4.08627791e-01]))"
      ]
     },
     "execution_count": 7,
     "metadata": {},
     "output_type": "execute_result"
    }
   ],
   "source": [
    "trained_model.fit(x_train, y_train)"
   ]
  },
  {
   "cell_type": "code",
   "execution_count": 8,
   "metadata": {},
   "outputs": [
    {
     "data": {
      "text/plain": [
       "96.66666666666667"
      ]
     },
     "execution_count": 8,
     "metadata": {},
     "output_type": "execute_result"
    }
   ],
   "source": [
    "#evaluatte on test set\n",
    "trained_model.evaluate(x_val, y_val)"
   ]
  }
 ],
 "metadata": {
  "kernelspec": {
   "display_name": "Python 3",
   "language": "python",
   "name": "python3"
  },
  "language_info": {
   "codemirror_mode": {
    "name": "ipython",
    "version": 3
   },
   "file_extension": ".py",
   "mimetype": "text/x-python",
   "name": "python",
   "nbconvert_exporter": "python",
   "pygments_lexer": "ipython3",
   "version": "3.10.11"
  },
  "orig_nbformat": 4
 },
 "nbformat": 4,
 "nbformat_minor": 2
}
